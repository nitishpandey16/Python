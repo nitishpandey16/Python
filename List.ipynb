{
 "cells": [
  {
   "cell_type": "code",
   "execution_count": 72,
   "metadata": {
    "collapsed": false
   },
   "outputs": [],
   "source": [
    "                                                  # “your judgement judges you and defines you” ― Jean-Paul Sartre\n",
    "#Covered in this:\n",
    "\n",
    "#Create List.\n",
    "#Access Modify delete list elemets.\n",
    "#Merge List\n",
    "#Use the slicing syntax to operate on sublists\n",
    "#Loop over list\n",
    "\n",
    "#Note\n",
    "## 0-->List does'nt need to have Homogeneous Mixture\n",
    "## 1--> Flexible and Efficient containers for hetrogenous data.\n",
    "## 2--> use where order of element matter.\n",
    "## 3--> or where elements can be addressed by a numeral.\n",
    "## 4--> use the slicing syntax to opearte on sublists.\n",
    "## 5-->Most popular for collecting data items of the same type.\n",
    "## 6-->list are mutable."
   ]
  },
  {
   "cell_type": "code",
   "execution_count": 111,
   "metadata": {
    "collapsed": false
   },
   "outputs": [
    {
     "data": {
      "text/plain": [
       "['jhilam', 'Prince', 'Tyson']"
      ]
     },
     "execution_count": 111,
     "metadata": {},
     "output_type": "execute_result"
    }
   ],
   "source": [
    "#list\n",
    "\n",
    "sportsman=[\"jhilam\",\"Prince\",\"Tyson\"]\n",
    "sportsman"
   ]
  },
  {
   "cell_type": "code",
   "execution_count": 112,
   "metadata": {
    "collapsed": false
   },
   "outputs": [
    {
     "name": "stdout",
     "output_type": "stream",
     "text": [
      "jhilam\n",
      "Tyson\n"
     ]
    }
   ],
   "source": [
    "#Fetching element based on index.\n",
    "\n",
    "print(sportsman[0])\n",
    "print(sportsman[2])"
   ]
  },
  {
   "cell_type": "code",
   "execution_count": 113,
   "metadata": {
    "collapsed": false
   },
   "outputs": [
    {
     "data": {
      "text/plain": [
       "3"
      ]
     },
     "execution_count": 113,
     "metadata": {},
     "output_type": "execute_result"
    }
   ],
   "source": [
    "#Checking the length of a list.\n",
    "\n",
    "len(sportsman)"
   ]
  },
  {
   "cell_type": "code",
   "execution_count": 114,
   "metadata": {
    "collapsed": false
   },
   "outputs": [
    {
     "ename": "TypeError",
     "evalue": "'list' object is not callable",
     "output_type": "error",
     "traceback": [
      "\u001b[0;31m---------------------------------------------------------------------------\u001b[0m",
      "\u001b[0;31mTypeError\u001b[0m                                 Traceback (most recent call last)",
      "\u001b[0;32m<ipython-input-114-06125d0eb4a4>\u001b[0m in \u001b[0;36m<module>\u001b[0;34m()\u001b[0m\n\u001b[1;32m      1\u001b[0m \u001b[1;31m#out of Index Error\u001b[0m\u001b[1;33m\u001b[0m\u001b[1;33m\u001b[0m\u001b[0m\n\u001b[1;32m      2\u001b[0m \u001b[1;33m\u001b[0m\u001b[0m\n\u001b[0;32m----> 3\u001b[0;31m \u001b[0msportsman\u001b[0m\u001b[1;33m(\u001b[0m\u001b[1;36m5\u001b[0m\u001b[1;33m)\u001b[0m\u001b[1;33m\u001b[0m\u001b[0m\n\u001b[0m",
      "\u001b[0;31mTypeError\u001b[0m: 'list' object is not callable"
     ]
    }
   ],
   "source": [
    "#out of Index Error\n",
    "\n",
    "sportsman(5)"
   ]
  },
  {
   "cell_type": "code",
   "execution_count": 115,
   "metadata": {
    "collapsed": false
   },
   "outputs": [
    {
     "name": "stdout",
     "output_type": "stream",
     "text": [
      "['jhilam Tiger', 'Prince Tiger', 'Tyson Tiger']\n"
     ]
    }
   ],
   "source": [
    "#For loop and adding tiger\n",
    "\n",
    "for i in range(3):\n",
    "    sportsman[i]=sportsman[i] + ' Tiger'\n",
    "\n",
    "print(sportsman)"
   ]
  },
  {
   "cell_type": "code",
   "execution_count": 116,
   "metadata": {
    "collapsed": false
   },
   "outputs": [
    {
     "data": {
      "text/plain": [
       "[1, [2, 3], 'alpha']"
      ]
     },
     "execution_count": 116,
     "metadata": {},
     "output_type": "execute_result"
    }
   ],
   "source": [
    "##List does'nt need to have Homogeneous Mixture'\n",
    "\n",
    "mix_it_up=[1,[2,3],'alpha']\n",
    "mix_it_up"
   ]
  },
  {
   "cell_type": "code",
   "execution_count": 117,
   "metadata": {
    "collapsed": false
   },
   "outputs": [
    {
     "name": "stdout",
     "output_type": "stream",
     "text": [
      "['jhilam Tiger', 'Prince Tiger', 'Tyson Tiger', 'Mike Tyson']\n"
     ]
    }
   ],
   "source": [
    "#Adding single element to a list\n",
    "\n",
    "sportsman.append('Mike Tyson')\n",
    "print(sportsman)"
   ]
  },
  {
   "cell_type": "code",
   "execution_count": 118,
   "metadata": {
    "collapsed": false
   },
   "outputs": [
    {
     "name": "stdout",
     "output_type": "stream",
     "text": [
      "['jhilam Tiger', 'Prince Tiger', 'Tyson Tiger', 'Mike Tyson', 'lenoxx', 'holyfield']\n"
     ]
    }
   ],
   "source": [
    "#To concatenate two list\n",
    "\n",
    "sportsman.extend(['lenoxx','holyfield'])\n",
    "print(sportsman)"
   ]
  },
  {
   "cell_type": "code",
   "execution_count": 119,
   "metadata": {
    "collapsed": false
   },
   "outputs": [
    {
     "name": "stdout",
     "output_type": "stream",
     "text": [
      "['jhilam Tiger', 'Prince Tiger', 'Tyson Tiger', 'Mike Tyson', 'lenoxx', 'holyfield', 'Matt', 'Greg']\n"
     ]
    }
   ],
   "source": [
    "# you can use this also to concatenate\n",
    "\n",
    "boxers=sportsman + ['Matt','Greg']\n",
    "print(boxers)"
   ]
  },
  {
   "cell_type": "code",
   "execution_count": 120,
   "metadata": {
    "collapsed": false
   },
   "outputs": [
    {
     "name": "stdout",
     "output_type": "stream",
     "text": [
      "['Ben Affleck', 'jhilam Tiger', 'Prince Tiger', 'Tyson Tiger', 'Mike Tyson', 'lenoxx', 'holyfield']\n"
     ]
    }
   ],
   "source": [
    "#Insert any element at any position\n",
    "\n",
    "sportsman.insert(0,'Ben Affleck')\n",
    "print(sportsman)"
   ]
  },
  {
   "cell_type": "code",
   "execution_count": 121,
   "metadata": {
    "collapsed": false
   },
   "outputs": [
    {
     "name": "stdout",
     "output_type": "stream",
     "text": [
      "['jhilam Tiger', 'Prince Tiger', 'Tyson Tiger', 'Mike Tyson', 'lenoxx', 'holyfield']\n"
     ]
    }
   ],
   "source": [
    "#Deleting from a list\n",
    "#we can delete either by index or by value\n",
    "\n",
    "del sportsman[0]\n",
    "print(sportsman)"
   ]
  },
  {
   "cell_type": "code",
   "execution_count": 122,
   "metadata": {
    "collapsed": false
   },
   "outputs": [
    {
     "name": "stdout",
     "output_type": "stream",
     "text": [
      "['jhilam Tiger', 'Prince Tiger', 'Tyson Tiger', 'Mike Tyson', 'lenoxx']\n"
     ]
    }
   ],
   "source": [
    "#we can remove elements using remove function too\n",
    "\n",
    "sportsman.remove('holyfield')\n",
    "print(sportsman)"
   ]
  },
  {
   "cell_type": "code",
   "execution_count": 123,
   "metadata": {
    "collapsed": false
   },
   "outputs": [
    {
     "name": "stdout",
     "output_type": "stream",
     "text": [
      "['Mike Tyson', 'Prince Tiger', 'Tyson Tiger', 'jhilam Tiger', 'lenoxx']\n"
     ]
    }
   ],
   "source": [
    "#default sorting method is called lexographical.\n",
    "\n",
    "sportsman.sort()\n",
    "print(sportsman)"
   ]
  },
  {
   "cell_type": "code",
   "execution_count": 124,
   "metadata": {
    "collapsed": true
   },
   "outputs": [],
   "source": [
    "#Numerical list\n",
    "\n",
    "squares=[0,1,4,9,16,25,36,49]"
   ]
  },
  {
   "cell_type": "code",
   "execution_count": 125,
   "metadata": {
    "collapsed": false
   },
   "outputs": [
    {
     "name": "stdout",
     "output_type": "stream",
     "text": [
      "[0, 1]\n",
      "[1, 4]\n",
      "[0, 1, 4, 9]\n",
      "[1, 4, 9, 16, 25, 36, 49]\n",
      "[0, 1, 4, 9, 16, 25, 36, 49]\n",
      "49\n"
     ]
    }
   ],
   "source": [
    "#Fetching value from index\n",
    "\n",
    "print(squares[0:2])\n",
    "print(squares[1:3])\n",
    "print(squares[:4])\n",
    "print(squares[1:])\n",
    "print(squares[:])\n",
    "print(squares[-1])\n"
   ]
  },
  {
   "cell_type": "code",
   "execution_count": 126,
   "metadata": {
    "collapsed": false
   },
   "outputs": [
    {
     "name": "stdout",
     "output_type": "stream",
     "text": [
      "[0, 1, '4', '10', 16, 25, 36, 49]\n"
     ]
    }
   ],
   "source": [
    "#also we can reassign elements.\n",
    "\n",
    "squares[2:4]=['4','10']\n",
    "print(squares)"
   ]
  },
  {
   "cell_type": "code",
   "execution_count": 127,
   "metadata": {
    "collapsed": false
   },
   "outputs": [
    {
     "name": "stdout",
     "output_type": "stream",
     "text": [
      "[0, 1, '4', '10', 16, 25, 49]\n"
     ]
    }
   ],
   "source": [
    "#Deleting 2nd last element(negative indexing)\n",
    "\n",
    "del squares[-2]\n",
    "print(squares)"
   ]
  },
  {
   "cell_type": "code",
   "execution_count": 128,
   "metadata": {
    "collapsed": false
   },
   "outputs": [
    {
     "name": "stdout",
     "output_type": "stream",
     "text": [
      "('Elements', 0)\n",
      "('Elements', 1)\n",
      "('Elements', '4')\n",
      "('Elements', '10')\n",
      "('Elements', 16)\n",
      "('Elements', 25)\n",
      "('Elements', 49)\n"
     ]
    }
   ],
   "source": [
    "#looping over list\n",
    "\n",
    "for value in squares:\n",
    "    print(\"Elements\",value)"
   ]
  },
  {
   "cell_type": "code",
   "execution_count": 129,
   "metadata": {
    "collapsed": false
   },
   "outputs": [
    {
     "name": "stdout",
     "output_type": "stream",
     "text": [
      "('Elements', 0, ' -->', 0)\n",
      "('Elements', 1, ' -->', 1)\n",
      "('Elements', 2, ' -->', '4')\n",
      "('Elements', 3, ' -->', '10')\n",
      "('Elements', 4, ' -->', 16)\n",
      "('Elements', 5, ' -->', 25)\n",
      "('Elements', 6, ' -->', 49)\n"
     ]
    }
   ],
   "source": [
    "#Given a list enumerate enumerate list indexes and element\n",
    "\n",
    "for index,value in enumerate(squares):\n",
    "    print(\"Elements\",index,\" -->\",value)\n",
    "    "
   ]
  },
  {
   "cell_type": "code",
   "execution_count": 130,
   "metadata": {
    "collapsed": false
   },
   "outputs": [
    {
     "data": {
      "text/plain": [
       "True"
      ]
     },
     "execution_count": 130,
     "metadata": {},
     "output_type": "execute_result"
    }
   ],
   "source": [
    "#Checking element available  in a list or not.\n",
    "\n",
    "'lennox' not in ['mike','holyfield','Douglas']"
   ]
  },
  {
   "cell_type": "code",
   "execution_count": 131,
   "metadata": {
    "collapsed": false
   },
   "outputs": [
    {
     "name": "stdout",
     "output_type": "stream",
     "text": [
      "satre\n",
      "camus\n",
      "Nietzsche\n"
     ]
    }
   ],
   "source": [
    "#Multiple Assignment\n",
    "\n",
    "books=['satre','camus','Nietzsche']\n",
    "\n",
    "being_and_nothingness=books[0]\n",
    "Plague=books[1]\n",
    "Thus_spoke_Zarathustra=books[2]\n",
    "\n",
    "print(being_and_nothingness)\n",
    "print(Plague)\n",
    "print(Thus_spoke_Zarathustra)\n"
   ]
  },
  {
   "cell_type": "code",
   "execution_count": 132,
   "metadata": {
    "collapsed": false
   },
   "outputs": [
    {
     "name": "stdout",
     "output_type": "stream",
     "text": [
      "khaleed\n",
      "salman Rushdie\n",
      "Paulo Coelho\n"
     ]
    }
   ],
   "source": [
    "#Multiple Assignment\n",
    "\n",
    "splendid_sun,Midnight_children,Alchemist=\"khaleed\",\"salman Rushdie\",\"Paulo Coelho\"\n",
    "print(splendid_sun)\n",
    "print(Midnight_children)\n",
    "print(Alchemist)"
   ]
  }
 ],
 "metadata": {
  "kernelspec": {
   "display_name": "Python 2",
   "language": "python",
   "name": "python2"
  },
  "language_info": {
   "codemirror_mode": {
    "name": "ipython",
    "version": 2
   },
   "file_extension": ".py",
   "mimetype": "text/x-python",
   "name": "python",
   "nbconvert_exporter": "python",
   "pygments_lexer": "ipython2",
   "version": "2.7.13"
  }
 },
 "nbformat": 4,
 "nbformat_minor": 2
}
