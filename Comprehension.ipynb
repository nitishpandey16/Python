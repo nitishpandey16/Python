{
 "cells": [
  {
   "cell_type": "code",
   "execution_count": 1,
   "metadata": {
    "collapsed": true
   },
   "outputs": [],
   "source": [
    "                          # “he who thinks great thoughts often makes great errors” ― Martin Heidegger\n",
    "#Covered in this:\n",
    "#-->List Comprehension\n",
    "#-->Dictionary Comprehension\n",
    "\n",
    "##Note:\n",
    "#-->Python features functional programming tools like map and filter for mapping operations over sequences and collecting results.\n",
    "#-->Since this is such a common task in Python coding, Python made a new expression: the list comprehension which is more flexible\n",
    "# than map and filter.\n",
    "\n",
    "#-->1.Compehension are concise and expressive way to write a data transformation.\n",
    "#-->2.They are quick to write,easy to praise and surprisngly powerful. \n",
    "#-->#To iterate over a list or dict perform operation over every element and collect in a list or Dict\n",
    "#    you can do that with for loop but python offers a great feature comprehension for shorter and better code.\n",
    "\n",
    "\n",
    "#Using For Loop\n",
    "\n",
    "#for (set of values to iterate):\n",
    "#  if (conditional filtering): \n",
    "#    output_expression()\n",
    "\n",
    "#The same gets implemented in a simple LC construct in a single line as:\n",
    "#-->[ output_expression() for(set of values to iterate) if(conditional filtering) ]"
   ]
  },
  {
   "cell_type": "code",
   "execution_count": 2,
   "metadata": {
    "collapsed": false
   },
   "outputs": [
    {
     "data": {
      "text/plain": [
       "[0, 1, 4, 9, 16]"
      ]
     },
     "execution_count": 2,
     "metadata": {},
     "output_type": "execute_result"
    }
   ],
   "source": [
    "\n",
    "squares=[]\n",
    "for i in range(5):\n",
    "    squares.append(i**2)\n",
    "squares\n"
   ]
  },
  {
   "cell_type": "code",
   "execution_count": 3,
   "metadata": {
    "collapsed": false
   },
   "outputs": [
    {
     "data": {
      "text/plain": [
       "[0, 1, 4, 9, 16]"
      ]
     },
     "execution_count": 3,
     "metadata": {},
     "output_type": "execute_result"
    }
   ],
   "source": [
    "#same cane be done using List comprehension with a better and shorter code\n",
    "#List Comprehension\n",
    "\n",
    "squares=[i**2 for i in range(5)]\n",
    "squares"
   ]
  },
  {
   "cell_type": "code",
   "execution_count": 6,
   "metadata": {
    "collapsed": false
   },
   "outputs": [
    {
     "data": {
      "text/plain": [
       "[0, 9, 36, 81]"
      ]
     },
     "execution_count": 6,
     "metadata": {},
     "output_type": "execute_result"
    }
   ],
   "source": [
    "#compute squares only numbers which are divisible by 3.\n",
    "\n",
    "squares3rd=[i**2 for i in range(10) if i % 3==0]\n",
    "squares3rd"
   ]
  },
  {
   "cell_type": "code",
   "execution_count": 8,
   "metadata": {
    "collapsed": false
   },
   "outputs": [
    {
     "data": {
      "text/plain": [
       "{0: 0, 3: 9, 6: 36, 9: 81, 12: 144, 15: 225, 18: 324}"
      ]
     },
     "execution_count": 8,
     "metadata": {},
     "output_type": "execute_result"
    }
   ],
   "source": [
    "#Dict Comprehension\n",
    "\n",
    "squares3rd_dict={i:i**2 for i in range(20) if i %3 ==0}\n",
    "squares3rd_dict"
   ]
  },
  {
   "cell_type": "code",
   "execution_count": 11,
   "metadata": {
    "collapsed": false
   },
   "outputs": [
    {
     "data": {
      "text/plain": [
       "{'Delhi': 'India', 'Paris': 'France', 'Washington': 'united states'}"
      ]
     },
     "execution_count": 11,
     "metadata": {},
     "output_type": "execute_result"
    }
   ],
   "source": [
    "#Common use of Dict Comprehension is to do Transpose\n",
    "#to make capitals as key and country as value\n",
    "\n",
    "capitals={'united states':'Washington','France':'Paris','India':'Delhi'}\n",
    "capitals_bycapital={capitals[key]:key for key in capitals}\n",
    "capitals_bycapital"
   ]
  },
  {
   "cell_type": "code",
   "execution_count": 12,
   "metadata": {
    "collapsed": false
   },
   "outputs": [
    {
     "data": {
      "text/plain": [
       "285"
      ]
     },
     "execution_count": 12,
     "metadata": {},
     "output_type": "execute_result"
    }
   ],
   "source": [
    "#feeding the list to a python function sum\n",
    "\n",
    "sum([i**2 for i in range(10)])"
   ]
  },
  {
   "cell_type": "code",
   "execution_count": 13,
   "metadata": {
    "collapsed": false
   },
   "outputs": [
    {
     "data": {
      "text/plain": [
       "285"
      ]
     },
     "execution_count": 13,
     "metadata": {},
     "output_type": "execute_result"
    }
   ],
   "source": [
    "#Using Python Generator.(lesser Bracket)\n",
    "\n",
    "#skiped the intermediate steps of creating the list [] before feeding the value to the sum ,very useful,\n",
    "#if you are dealing with lot and lot of data this can save lot of memory.\n",
    "\n",
    "sum(i **2 for i in range(10))"
   ]
  },
  {
   "cell_type": "code",
   "execution_count": 10,
   "metadata": {
    "collapsed": false
   },
   "outputs": [
    {
     "name": "stdout",
     "output_type": "stream",
     "text": [
      "[0, 1, 8, 27, 64]\n"
     ]
    },
    {
     "data": {
      "text/plain": [
       "[0, 1, 8, 27, 64]"
      ]
     },
     "execution_count": 10,
     "metadata": {},
     "output_type": "execute_result"
    }
   ],
   "source": [
    "#Using List Comprehension\n",
    "\n",
    "print([x **3 for x in range(5)])\n",
    "\n",
    "## similar can be done by using Map ,we need to write a function using to implement the square opeartion,probably Lambda \n",
    "# instaed of def,but using list comprehension it is smaller and crispy code.\n",
    "\n",
    "list(map((lambda x: x**3),range(5)))"
   ]
  },
  {
   "cell_type": "code",
   "execution_count": 16,
   "metadata": {
    "collapsed": false
   },
   "outputs": [
    {
     "name": "stdout",
     "output_type": "stream",
     "text": [
      "[0, 5, 10, 15]\n"
     ]
    },
    {
     "data": {
      "text/plain": [
       "[0, 5, 10, 15]"
      ]
     },
     "execution_count": 16,
     "metadata": {},
     "output_type": "execute_result"
    }
   ],
   "source": [
    "#list comprehension with filter\n",
    "\n",
    "\n",
    "#if we use \"if\" with list comprehension ,it is very similar to filter built in function.\n",
    "print([ x for x in range(20) if x%5==0])\n",
    "\n",
    "\n",
    "#similar output using filter:\n",
    "list(filter((lambda x: x%5==0),range(20)))"
   ]
  },
  {
   "cell_type": "code",
   "execution_count": 18,
   "metadata": {
    "collapsed": false
   },
   "outputs": [
    {
     "data": {
      "text/plain": [
       "[16, 32, 64, 81, 243, 729, 256, 1024, 4096]"
      ]
     },
     "execution_count": 18,
     "metadata": {},
     "output_type": "execute_result"
    }
   ],
   "source": [
    "#List comprehension are very generic,we can code n number of nested for loop in a list comprehension,and each may have\n",
    "#an optional associated if test,when for loop are nested within a comprehension,they work like equivalent for loop statement.\n",
    "\n",
    "output=[]\n",
    "output=[x **y for x in [2,3,4] for y in [4,5,6]]\n",
    "output"
   ]
  },
  {
   "cell_type": "code",
   "execution_count": 19,
   "metadata": {
    "collapsed": false
   },
   "outputs": [
    {
     "data": {
      "text/plain": [
       "['cm', 'ca', 'ct', 'am', 'aa', 'at', 'tm', 'ta', 'tt']"
      ]
     },
     "execution_count": 19,
     "metadata": {},
     "output_type": "execute_result"
    }
   ],
   "source": [
    "[ x + y for x in 'cat' for y in 'mat' ]"
   ]
  },
  {
   "cell_type": "code",
   "execution_count": 21,
   "metadata": {
    "collapsed": false
   },
   "outputs": [
    {
     "data": {
      "text/plain": [
       "[(0, 1), (0, 3), (0, 5), (2, 1), (2, 3), (2, 5), (4, 1), (4, 3), (4, 5)]"
      ]
     },
     "execution_count": 21,
     "metadata": {},
     "output_type": "execute_result"
    }
   ],
   "source": [
    "#Even number from 0 through 6 ,with odd number from 0 through 6\n",
    "\n",
    "[(x,y) for x in range (6) if x%2==0 for y in range(6) if y %2==1 ]"
   ]
  }
 ],
 "metadata": {
  "kernelspec": {
   "display_name": "Python 2",
   "language": "python",
   "name": "python2"
  },
  "language_info": {
   "codemirror_mode": {
    "name": "ipython",
    "version": 2
   },
   "file_extension": ".py",
   "mimetype": "text/x-python",
   "name": "python",
   "nbconvert_exporter": "python",
   "pygments_lexer": "ipython2",
   "version": "2.7.13"
  }
 },
 "nbformat": 4,
 "nbformat_minor": 2
}
