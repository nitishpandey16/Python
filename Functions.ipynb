{
 "cells": [
  {
   "cell_type": "code",
   "execution_count": 4,
   "metadata": {
    "collapsed": true
   },
   "outputs": [],
   "source": [
    "               #From error to error one discovers the entire truth ~ Sigmund Freud\n",
    "\n",
    "#-->1.Group code that will be executed multiple times.\n",
    "#-->2.The value passed in the function call is called Argument--hello('Matt') matt is the argument.\n",
    "#-->3.The variable inside the function is called parameter.--hello(name) name is the Parameter.\n",
    "#-->4.Every Function has the return value even the ptint function.but you dont have to have a return\n",
    "#statement in your function that return value default will be \"None\" value\n",
    "#-->5.Global scope are created when program starts and destroyed when the program terminates.\n",
    "\n",
    "#Local scope is created whenever a function is called and all the variable is assigned during the function call exist\n",
    "#within that local scope,when the function is returned the local scope is destroyed and these variable are forgotten.\n",
    "\n",
    "#---------------------------------\n",
    "#fUNCTION\n",
    "#def <name>(arg1, arg2,...,argN)\n",
    "#\t<statement>\n",
    "\n",
    "#def <name>(arg1, arg2,...,argN)\n",
    "#\treturn <value>\n",
    "#---------------------------------\n",
    "\n",
    "#-->6.The notable thing here is that the function doesn't define a return datatype.\n",
    "#-->7.Python functions do not specify the datatype of their return value."
   ]
  },
  {
   "cell_type": "code",
   "execution_count": 7,
   "metadata": {
    "collapsed": false
   },
   "outputs": [
    {
     "name": "stdout",
     "output_type": "stream",
     "text": [
      "Hello Matt\n",
      "Hello frank\n"
     ]
    }
   ],
   "source": [
    "\n",
    "def hello(name):\n",
    "    print('Hello ' + name)\n",
    "hello('Matt')\n",
    "hello('frank')"
   ]
  },
  {
   "cell_type": "code",
   "execution_count": 8,
   "metadata": {
    "collapsed": false
   },
   "outputs": [
    {
     "name": "stdout",
     "output_type": "stream",
     "text": [
      "4\n"
     ]
    }
   ],
   "source": [
    "def minusone(number):\n",
    "    return number - 1 \n",
    "newnumber=minusone(5)\n",
    "print(newnumber)\n"
   ]
  },
  {
   "cell_type": "code",
   "execution_count": 18,
   "metadata": {
    "collapsed": false
   },
   "outputs": [
    {
     "name": "stdout",
     "output_type": "stream",
     "text": [
      "35\n",
      "40\n"
     ]
    }
   ],
   "source": [
    "#Global Variable & Local Variable\n",
    "\n",
    "spam=35  # --> Global Variable\n",
    "def mails():\n",
    "    spam=40  #--> local Variable\n",
    "    print(spam)\n",
    "print (spam)\n",
    "mails()"
   ]
  },
  {
   "cell_type": "code",
   "execution_count": 22,
   "metadata": {
    "collapsed": false
   },
   "outputs": [
    {
     "name": "stdout",
     "output_type": "stream",
     "text": [
      "90\n"
     ]
    }
   ],
   "source": [
    "#Local scope cannot use variable in others local scope.\n",
    "#Local variable in one function is extremely seperate from local variable in another function.\n",
    "\n",
    "def books():\n",
    "    satre=90\n",
    "    marx=86\n",
    "    print(satre)\n",
    "\n",
    "def classic():\n",
    "    catch=22\n",
    "    satre=10\n",
    "\n",
    "books()\n",
    "    "
   ]
  },
  {
   "cell_type": "code",
   "execution_count": 25,
   "metadata": {
    "collapsed": false
   },
   "outputs": [
    {
     "name": "stdout",
     "output_type": "stream",
     "text": [
      "100\n"
     ]
    }
   ],
   "source": [
    "def philosphy():\n",
    "    print(books)\n",
    "    \n",
    "books=100\n",
    "philosphy()"
   ]
  },
  {
   "cell_type": "code",
   "execution_count": 27,
   "metadata": {
    "collapsed": false
   },
   "outputs": [
    {
     "name": "stdout",
     "output_type": "stream",
     "text": [
      "hello\n",
      "hello\n"
     ]
    }
   ],
   "source": [
    "#To mark Book as a global variables you have to type global.\n",
    "\n",
    "def data():\n",
    "    global book\n",
    "    book='hello'\n",
    "    print(book)\n",
    "\n",
    "book=50\n",
    "data()\n",
    "print(book)"
   ]
  },
  {
   "cell_type": "code",
   "execution_count": 32,
   "metadata": {
    "collapsed": false
   },
   "outputs": [
    {
     "name": "stdout",
     "output_type": "stream",
     "text": [
      "60\n",
      "68\n",
      "90\n"
     ]
    }
   ],
   "source": [
    "def hadoop1():\n",
    "    pig=45\n",
    "    hive=60\n",
    "    print(hive)\n",
    "    \n",
    "def hadoop2():\n",
    "    pig=28\n",
    "    hive=68\n",
    "    spark=90\n",
    "    print(hive)\n",
    "    print(spark)\n",
    "    \n",
    "hive=02\n",
    "    \n",
    "hadoop1()\n",
    "hadoop2()   \n"
   ]
  },
  {
   "cell_type": "code",
   "execution_count": 41,
   "metadata": {
    "collapsed": false
   },
   "outputs": [
    {
     "name": "stdout",
     "output_type": "stream",
     "text": [
      "16\n",
      "512\n"
     ]
    }
   ],
   "source": [
    "####Lambda Function###\n",
    "#-->1. Python supports the creation of anonymous function(i.e function that not bound to a name )\n",
    "#     at runtime,using a construct called Lambda.\n",
    "#-->2 def and lam does exactly the same and can be used in same ways.\n",
    "#-->3 Lambda definition does not include a return statement as it always contains an expresion which is returned.\n",
    "#-->4 lambda is an expression not a statement\n",
    "#-->5 lambda's body is a single expression, not a block of statements.\n",
    "\n",
    "#-->1(using def)\n",
    "\n",
    "def func(x):\n",
    "    return x**2\n",
    "print(func(4))\n",
    "\n",
    "#-->2(using lambda)\n",
    "\n",
    "lam=lambda x:x**3\n",
    "print(lam(8))"
   ]
  },
  {
   "cell_type": "code",
   "execution_count": 6,
   "metadata": {
    "collapsed": false
   },
   "outputs": [
    {
     "name": "stdout",
     "output_type": "stream",
     "text": [
      "60\n",
      "150\n"
     ]
    }
   ],
   "source": [
    "#using Def\n",
    "\n",
    "def fun1(x,y,z):return x+y+z\n",
    "print(fun1(10,20,30))\n",
    "\n",
    "#using Lambda\n",
    "\n",
    "fun2=lambda x,y,z:x+y+z\n",
    "print(fun2(50,50,50))\n"
   ]
  },
  {
   "cell_type": "code",
   "execution_count": 9,
   "metadata": {
    "collapsed": false
   },
   "outputs": [
    {
     "data": {
      "text/plain": [
       "'sen wrote a famous book called an Argumentative indian'"
      ]
     },
     "execution_count": 9,
     "metadata": {},
     "output_type": "execute_result"
    }
   ],
   "source": [
    "\n",
    "def writer():\n",
    "    title='sen'\n",
    "    name=(lambda x:title + ' ' + x)\n",
    "    return name\n",
    "\n",
    "who=writer()\n",
    "who('wrote a famous book called an Argumentative indian')"
   ]
  },
  {
   "cell_type": "code",
   "execution_count": 19,
   "metadata": {
    "collapsed": false
   },
   "outputs": [
    {
     "name": "stdout",
     "output_type": "stream",
     "text": [
      "16\n",
      "64\n",
      "256\n",
      "125\n"
     ]
    }
   ],
   "source": [
    "#-->1.list of three Function was built up by embedding lambdas expression inside a list.\n",
    "#-->2.A def won't work inside a list literal like this bcz its is an statement not an expression.\n",
    "\n",
    "test=[lambda x:x**2,\n",
    "      lambda x:x**3,\n",
    "      lambda x:x**4]\n",
    "\n",
    "for y in test:\n",
    "    print(y(4))\n",
    "    \n",
    "print(test[1](5))"
   ]
  },
  {
   "cell_type": "code",
   "execution_count": 22,
   "metadata": {
    "collapsed": false
   },
   "outputs": [
    {
     "data": {
      "text/plain": [
       "100"
      ]
     },
     "execution_count": 22,
     "metadata": {},
     "output_type": "execute_result"
    }
   ],
   "source": [
    "min=(lambda x,y:x if x > y else y)\n",
    "min(100,50)"
   ]
  },
  {
   "cell_type": "code",
   "execution_count": 13,
   "metadata": {
    "collapsed": false
   },
   "outputs": [
    {
     "name": "stdout",
     "output_type": "stream",
     "text": [
      "func()\n",
      "func1\n",
      "func2\n"
     ]
    }
   ],
   "source": [
    "def func():\n",
    "    print('func()')\n",
    "    def func1():\n",
    "        print('func1')\n",
    "        def func2():\n",
    "            print('func2')\n",
    "        func2()\n",
    "    func1()\n",
    "func()"
   ]
  },
  {
   "cell_type": "code",
   "execution_count": 21,
   "metadata": {
    "collapsed": false
   },
   "outputs": [
    {
     "name": "stdout",
     "output_type": "stream",
     "text": [
      "func\n",
      "func1\n",
      "func2\n",
      "func\n",
      "func1\n",
      "func2\n"
     ]
    }
   ],
   "source": [
    "#-->1.bcz function definition happens at runtime,there is nothing special about the function name.\n",
    "#   what is important is the object it refers.\n",
    "\n",
    "def func():\n",
    "    print('func')\n",
    "    def func1():\n",
    "        print('func1')\n",
    "        def func2():\n",
    "            print('func2')\n",
    "        func2()\n",
    "    func1()\n",
    "newname=func() #Assigning function object\n",
    "\n",
    "newname1=func() # calling function one more time\n",
    "\n",
    "\n",
    "#Note:\n",
    "  #  def func():...\t\t# Create function object\n",
    "  #  func()\t\t\t# Call object\n",
    "  #  func.attr = value\t# Attach attributes"
   ]
  },
  {
   "cell_type": "code",
   "execution_count": 26,
   "metadata": {
    "collapsed": false
   },
   "outputs": [
    {
     "name": "stdout",
     "output_type": "stream",
     "text": [
      "50\n",
      "60\n"
     ]
    }
   ],
   "source": [
    "def multiplication(x,y):       #Create and assign function\n",
    "    return(x*y)                # Body executed when called\n",
    "print(multiplication(10,5))    # Arguments in parentheses\n",
    "\n",
    "#If we want to use it for later we could instead assign it to a variable:\n",
    "z=multiplication(10,6)\n",
    "print(x)"
   ]
  },
  {
   "cell_type": "code",
   "execution_count": 32,
   "metadata": {
    "collapsed": false
   },
   "outputs": [
    {
     "name": "stdout",
     "output_type": "stream",
     "text": [
      "(4, 5)\n",
      "(4, 5)\n",
      "(4, 5)\n"
     ]
    }
   ],
   "source": [
    "#Argument Matching\n",
    "#-->Keyword Argument\n",
    "\n",
    "def A(x,y):\n",
    "    print(x,y)\n",
    "    \n",
    "A(4,5)\n",
    "A(y=5,x=4)\n",
    "A(4,y=5)"
   ]
  },
  {
   "cell_type": "code",
   "execution_count": 37,
   "metadata": {
    "collapsed": false
   },
   "outputs": [
    {
     "name": "stdout",
     "output_type": "stream",
     "text": [
      "(2, 5, 6)\n",
      "(10, 15, 20)\n",
      "(21, 42, 6)\n"
     ]
    }
   ],
   "source": [
    "#default Matching\n",
    "\n",
    "def B(x,y=5,z=6):\n",
    "    print(x,y,z)\n",
    "B(2)\n",
    "B(10,15,20)\n",
    "B(21,42)"
   ]
  },
  {
   "cell_type": "code",
   "execution_count": 1,
   "metadata": {
    "collapsed": false
   },
   "outputs": [
    {
     "name": "stdout",
     "output_type": "stream",
     "text": [
      "(10,)\n",
      "(10, 20, 30)\n",
      "(1, 2, 3, 4, 5, 6, 7)\n"
     ]
    }
   ],
   "source": [
    "## *args and **kwargs - Collecting and Unpacking the Arguments.\n",
    "\n",
    "#-->Putting *args and/or **kwargs as the last items in our function definition's argument list allows that function\n",
    "#   to accept an arbitrary number of anonymous and/or keyword arguments.\n",
    "\n",
    "#--> *args when we're not sure how many arguments might be passed to our function, \n",
    "#i.e. it allows us to pass an arbitrary number of arguments to our function.\n",
    "\n",
    "#Collecting arguments\n",
    "\n",
    "def A(*args):\n",
    "    print(args)\n",
    "A(10)    \n",
    "A(10,20,30)\n",
    "A(1,2,3,4,5,6,7)"
   ]
  },
  {
   "cell_type": "code",
   "execution_count": 2,
   "metadata": {
    "collapsed": false
   },
   "outputs": [
    {
     "name": "stdout",
     "output_type": "stream",
     "text": [
      "(0, 'a')\n",
      "(1, 'b')\n",
      "(2, 'c')\n",
      "(3, 'd')\n"
     ]
    }
   ],
   "source": [
    "#-->1.Python collects all the positional arguments into a new tuple and assigns the variable args to that tuple.\n",
    "# Since it is a normal tuple object, it can be indexed\n",
    "\n",
    "def my_print(*args):\n",
    "    for x in enumerate(args):\n",
    "        print x\n",
    "my_print('a','b','c','d')"
   ]
  },
  {
   "cell_type": "code",
   "execution_count": 6,
   "metadata": {
    "collapsed": false
   },
   "outputs": [
    {
     "name": "stdout",
     "output_type": "stream",
     "text": [
      "([5, 6, 7], [8, 9, 10])\n"
     ]
    }
   ],
   "source": [
    "#similarly we can pass list for the args.\n",
    "\n",
    "def my_print(*args):\n",
    " #   for x in enumerate(args):\n",
    "        print(args)\n",
    "my_print([5,6,7],[8,9,10])"
   ]
  },
  {
   "cell_type": "code",
   "execution_count": 9,
   "metadata": {
    "collapsed": false
   },
   "outputs": [
    {
     "name": "stdout",
     "output_type": "stream",
     "text": [
      "{}\n",
      "{'y': 20, 'x': 10}\n",
      "{'a': 4, 'c': 6, 'b': 5}\n"
     ]
    }
   ],
   "source": [
    "#-->1.This ** is similar but it only works for keyword arguments. \n",
    "#   In other words, it collects them into a new dictionary. Actually, ** allows us to convert from keywords to dictionaries:\n",
    "#-->2.The keyword arguments is a special name=value syntax in function calls that specifies passing by name.\n",
    "\n",
    "def my_func(**kwargs):\n",
    "    print(kwargs)\n",
    "\n",
    "my_func()\n",
    "my_func(x=10,y=20)\n",
    "my_func(a=4,b=5,c=6)"
   ]
  },
  {
   "cell_type": "code",
   "execution_count": 16,
   "metadata": {
    "collapsed": false
   },
   "outputs": [
    {
     "name": "stdout",
     "output_type": "stream",
     "text": [
      "{'dos': 'two', 'tres': 'three', 'uno': 'one'}\n"
     ]
    }
   ],
   "source": [
    "def my_func_test(**kwargs):\n",
    "  \n",
    "        print(kwargs)\n",
    "        \n",
    "my_func_test(**{'uno':'one','dos':'two','tres':'three'})"
   ]
  }
 ],
 "metadata": {
  "kernelspec": {
   "display_name": "Python 2",
   "language": "python",
   "name": "python2"
  },
  "language_info": {
   "codemirror_mode": {
    "name": "ipython",
    "version": 2
   },
   "file_extension": ".py",
   "mimetype": "text/x-python",
   "name": "python",
   "nbconvert_exporter": "python",
   "pygments_lexer": "ipython2",
   "version": "2.7.13"
  }
 },
 "nbformat": 4,
 "nbformat_minor": 2
}
