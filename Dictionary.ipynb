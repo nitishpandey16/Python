{
 "cells": [
  {
   "cell_type": "code",
   "execution_count": 55,
   "metadata": {
    "collapsed": true
   },
   "outputs": [],
   "source": [
    "                                        # “All that I know about my life, it seems, I have learned in books.”-Jean-Paul Sartre\n",
    "#Covered in this:\n",
    "\n",
    "#-->Create python Dictionaries\n",
    "#-->Access,modify,and delete dict items.\n",
    "#-->Merge Dictionaries.\n",
    "#-->Loop over dict keys,value and items.\n",
    "#{}\n",
    "\n",
    "##Note:\n",
    "#-->1.Flexible and efficient containers to associate labels with hetrogenous data.\n",
    "#-->2.use where data items have,or can be give labels.\n",
    "#-->3.Most appropriate for collecting data items for different kinds.\n",
    "#-->4.Dictionary is a collection of key and Values.\n",
    "#-->5.Dictionary has no order(unordered).\n",
    "#-->6.Variables hold refrence for dictionary don't hold dictionary itself."
   ]
  },
  {
   "cell_type": "code",
   "execution_count": 56,
   "metadata": {
    "collapsed": false
   },
   "outputs": [
    {
     "data": {
      "text/plain": [
       "{'France': 'Paris', 'India': 'Delhi', 'united states': 'Washington'}"
      ]
     },
     "execution_count": 56,
     "metadata": {},
     "output_type": "execute_result"
    }
   ],
   "source": [
    "#Dictionary\n",
    "\n",
    "capitals={'united states':'Washington','France':'Paris','India':'Delhi'}\n",
    "capitals"
   ]
  },
  {
   "cell_type": "code",
   "execution_count": 57,
   "metadata": {
    "collapsed": false
   },
   "outputs": [
    {
     "data": {
      "text/plain": [
       "'Delhi'"
      ]
     },
     "execution_count": 57,
     "metadata": {},
     "output_type": "execute_result"
    }
   ],
   "source": [
    "#Fetching value based on key.\n",
    "\n",
    "capitals['India']"
   ]
  },
  {
   "cell_type": "code",
   "execution_count": 58,
   "metadata": {
    "collapsed": false
   },
   "outputs": [
    {
     "data": {
      "text/plain": [
       "{'France': 'Paris',\n",
       " 'India': 'Delhi',\n",
       " 'Nepal': 'Kathmandu',\n",
       " 'united states': 'Washington'}"
      ]
     },
     "execution_count": 58,
     "metadata": {},
     "output_type": "execute_result"
    }
   ],
   "source": [
    "#Adding new key and value to a dictionary.\n",
    "\n",
    "capitals['Nepal']='Kathmandu'\n",
    "capitals"
   ]
  },
  {
   "cell_type": "code",
   "execution_count": 59,
   "metadata": {
    "collapsed": false
   },
   "outputs": [
    {
     "ename": "KeyError",
     "evalue": "'japan'",
     "output_type": "error",
     "traceback": [
      "\u001b[0;31m---------------------------------------------------------------------------\u001b[0m",
      "\u001b[0;31mKeyError\u001b[0m                                  Traceback (most recent call last)",
      "\u001b[0;32m<ipython-input-59-d08283222416>\u001b[0m in \u001b[0;36m<module>\u001b[0;34m()\u001b[0m\n\u001b[1;32m      1\u001b[0m \u001b[1;31m#Key is not available in the dictionary.\u001b[0m\u001b[1;33m\u001b[0m\u001b[1;33m\u001b[0m\u001b[0m\n\u001b[1;32m      2\u001b[0m \u001b[1;33m\u001b[0m\u001b[0m\n\u001b[0;32m----> 3\u001b[0;31m \u001b[0mcapitals\u001b[0m\u001b[1;33m[\u001b[0m\u001b[1;34m'japan'\u001b[0m\u001b[1;33m]\u001b[0m\u001b[1;33m\u001b[0m\u001b[0m\n\u001b[0m",
      "\u001b[0;31mKeyError\u001b[0m: 'japan'"
     ]
    }
   ],
   "source": [
    "#Key is not available in the dictionary.\n",
    "\n",
    "capitals['japan']"
   ]
  },
  {
   "cell_type": "code",
   "execution_count": 60,
   "metadata": {
    "collapsed": false
   },
   "outputs": [
    {
     "data": {
      "text/plain": [
       "True"
      ]
     },
     "execution_count": 60,
     "metadata": {},
     "output_type": "execute_result"
    }
   ],
   "source": [
    "#Checking key is available in a dictionary or not.\n",
    "\n",
    "'India' in capitals"
   ]
  },
  {
   "cell_type": "code",
   "execution_count": 61,
   "metadata": {
    "collapsed": true
   },
   "outputs": [],
   "source": [
    "#Creating a Dictionary\n",
    "\n",
    "othercapitals={'Germany':'Berlin','United Kingdom':'London'}"
   ]
  },
  {
   "cell_type": "code",
   "execution_count": 62,
   "metadata": {
    "collapsed": false
   },
   "outputs": [
    {
     "data": {
      "text/plain": [
       "{'France': 'Paris',\n",
       " 'Germany': 'Berlin',\n",
       " 'India': 'Delhi',\n",
       " 'Nepal': 'Kathmandu',\n",
       " 'United Kingdom': 'London',\n",
       " 'united states': 'Washington'}"
      ]
     },
     "execution_count": 62,
     "metadata": {},
     "output_type": "execute_result"
    }
   ],
   "source": [
    "#Updating the dictionary\n",
    "\n",
    "capitals.update(othercapitals)\n",
    "capitals"
   ]
  },
  {
   "cell_type": "code",
   "execution_count": 63,
   "metadata": {
    "collapsed": false
   },
   "outputs": [
    {
     "data": {
      "text/plain": [
       "{'France': 'Paris',\n",
       " 'Germany': 'Berlin',\n",
       " 'India': 'Delhi',\n",
       " 'Nepal': 'Kathmandu',\n",
       " 'united states': 'Washington'}"
      ]
     },
     "execution_count": 63,
     "metadata": {},
     "output_type": "execute_result"
    }
   ],
   "source": [
    "#Deleting an element from dictionary. ( del dict['keys] )\n",
    "\n",
    "del capitals['United Kingdom']\n",
    "capitals"
   ]
  },
  {
   "cell_type": "code",
   "execution_count": 64,
   "metadata": {
    "collapsed": false
   },
   "outputs": [
    {
     "name": "stdout",
     "output_type": "stream",
     "text": [
      "united states\n",
      "Germany\n",
      "Nepal\n",
      "India\n",
      "France\n"
     ]
    }
   ],
   "source": [
    "#Getting all the values of keys\n",
    "\n",
    "for key in capitals:\n",
    "    print key"
   ]
  },
  {
   "cell_type": "code",
   "execution_count": 65,
   "metadata": {
    "collapsed": false
   },
   "outputs": [
    {
     "name": "stdout",
     "output_type": "stream",
     "text": [
      "united states\n",
      "Germany\n",
      "Nepal\n",
      "India\n",
      "France\n"
     ]
    }
   ],
   "source": [
    "#More explicitily\n",
    "\n",
    "for key in capitals.keys():\n",
    "    print (key)"
   ]
  },
  {
   "cell_type": "code",
   "execution_count": 66,
   "metadata": {
    "collapsed": false
   },
   "outputs": [
    {
     "name": "stdout",
     "output_type": "stream",
     "text": [
      "Washington\n",
      "Berlin\n",
      "Kathmandu\n",
      "Delhi\n",
      "Paris\n"
     ]
    }
   ],
   "source": [
    "#looping over values\n",
    "\n",
    "for value in capitals.values():\n",
    "    print value"
   ]
  },
  {
   "cell_type": "code",
   "execution_count": 67,
   "metadata": {
    "collapsed": false
   },
   "outputs": [
    {
     "name": "stdout",
     "output_type": "stream",
     "text": [
      "('united states', 'Washington')\n",
      "('Germany', 'Berlin')\n",
      "('Nepal', 'Kathmandu')\n",
      "('India', 'Delhi')\n",
      "('France', 'Paris')\n"
     ]
    }
   ],
   "source": [
    "#looping both keys and Values\n",
    "\n",
    "for key,value in capitals.items():\n",
    "    print(key,value)"
   ]
  },
  {
   "cell_type": "code",
   "execution_count": 68,
   "metadata": {
    "collapsed": false
   },
   "outputs": [
    {
     "data": {
      "text/plain": [
       "'In Europe Paris  is the most beautiful city'"
      ]
     },
     "execution_count": 68,
     "metadata": {},
     "output_type": "execute_result"
    }
   ],
   "source": [
    "#Concatenation\n",
    "\n",
    "capitals={'united states':'Washington','France':'Paris','India':'Delhi'}\n",
    "capitals\n",
    "\n",
    "'In Europe ' + capitals['France'] + '  is the most beautiful city'"
   ]
  },
  {
   "cell_type": "code",
   "execution_count": 69,
   "metadata": {
    "collapsed": false
   },
   "outputs": [
    {
     "data": {
      "text/plain": [
       "['united states', 'India', 'France']"
      ]
     },
     "execution_count": 69,
     "metadata": {},
     "output_type": "execute_result"
    }
   ],
   "source": [
    "#To get the keys from a dictionary in a list as output.\n",
    "\n",
    "list(capitals.keys())"
   ]
  },
  {
   "cell_type": "code",
   "execution_count": 70,
   "metadata": {
    "collapsed": false
   },
   "outputs": [
    {
     "data": {
      "text/plain": [
       "['Washington', 'Delhi', 'Paris']"
      ]
     },
     "execution_count": 70,
     "metadata": {},
     "output_type": "execute_result"
    }
   ],
   "source": [
    "#To get the values from a dictionary in a list as output.\n",
    "\n",
    "list(capitals.values())"
   ]
  },
  {
   "cell_type": "code",
   "execution_count": 71,
   "metadata": {
    "collapsed": false
   },
   "outputs": [
    {
     "data": {
      "text/plain": [
       "[('united states', 'Washington'), ('India', 'Delhi'), ('France', 'Paris')]"
      ]
     },
     "execution_count": 71,
     "metadata": {},
     "output_type": "execute_result"
    }
   ],
   "source": [
    "#Return two items(key and Values) in a Tuple\n",
    "\n",
    "list(capitals.items())"
   ]
  }
 ],
 "metadata": {
  "kernelspec": {
   "display_name": "Python 2",
   "language": "python",
   "name": "python2"
  },
  "language_info": {
   "codemirror_mode": {
    "name": "ipython",
    "version": 2
   },
   "file_extension": ".py",
   "mimetype": "text/x-python",
   "name": "python",
   "nbconvert_exporter": "python",
   "pygments_lexer": "ipython2",
   "version": "2.7.13"
  }
 },
 "nbformat": 4,
 "nbformat_minor": 2
}
